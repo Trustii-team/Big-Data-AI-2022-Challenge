{
 "cells": [
  {
   "cell_type": "code",
   "execution_count": 1,
   "id": "fac86a04-0df3-498c-af2a-305b1e1d11ea",
   "metadata": {},
   "outputs": [
    {
     "name": "stdout",
     "output_type": "stream",
     "text": [
      "Requirement already satisfied: seaborn in /opt/conda/lib/python3.9/site-packages (0.11.2)\n",
      "Requirement already satisfied: matplotlib>=2.2 in /opt/conda/lib/python3.9/site-packages (from seaborn) (3.5.1)\n",
      "Requirement already satisfied: numpy>=1.15 in /opt/conda/lib/python3.9/site-packages (from seaborn) (1.21.5)\n",
      "Requirement already satisfied: pandas>=0.23 in /opt/conda/lib/python3.9/site-packages (from seaborn) (1.4.1)\n",
      "Requirement already satisfied: scipy>=1.0 in /opt/conda/lib/python3.9/site-packages (from seaborn) (1.8.0)\n",
      "Requirement already satisfied: kiwisolver>=1.0.1 in /opt/conda/lib/python3.9/site-packages (from matplotlib>=2.2->seaborn) (1.4.0)\n",
      "Requirement already satisfied: pillow>=6.2.0 in /opt/conda/lib/python3.9/site-packages (from matplotlib>=2.2->seaborn) (9.0.1)\n",
      "Requirement already satisfied: packaging>=20.0 in /opt/conda/lib/python3.9/site-packages (from matplotlib>=2.2->seaborn) (21.3)\n",
      "Requirement already satisfied: fonttools>=4.22.0 in /opt/conda/lib/python3.9/site-packages (from matplotlib>=2.2->seaborn) (4.31.2)\n",
      "Requirement already satisfied: cycler>=0.10 in /opt/conda/lib/python3.9/site-packages (from matplotlib>=2.2->seaborn) (0.11.0)\n",
      "Requirement already satisfied: python-dateutil>=2.7 in /opt/conda/lib/python3.9/site-packages (from matplotlib>=2.2->seaborn) (2.8.2)\n",
      "Requirement already satisfied: pyparsing>=2.2.1 in /opt/conda/lib/python3.9/site-packages (from matplotlib>=2.2->seaborn) (3.0.7)\n",
      "Requirement already satisfied: pytz>=2020.1 in /opt/conda/lib/python3.9/site-packages (from pandas>=0.23->seaborn) (2021.3)\n",
      "Requirement already satisfied: six>=1.5 in /opt/conda/lib/python3.9/site-packages (from python-dateutil>=2.7->matplotlib>=2.2->seaborn) (1.16.0)\n",
      "Requirement already satisfied: xgboost in /opt/conda/lib/python3.9/site-packages (1.6.2)\n",
      "Requirement already satisfied: scipy in /opt/conda/lib/python3.9/site-packages (from xgboost) (1.8.0)\n",
      "Requirement already satisfied: numpy in /opt/conda/lib/python3.9/site-packages (from xgboost) (1.21.5)\n",
      "Requirement already satisfied: shap in /opt/conda/lib/python3.9/site-packages (0.41.0)\n",
      "Requirement already satisfied: numba in /opt/conda/lib/python3.9/site-packages (from shap) (0.55.1)\n",
      "Requirement already satisfied: pandas in /opt/conda/lib/python3.9/site-packages (from shap) (1.4.1)\n",
      "Requirement already satisfied: scipy in /opt/conda/lib/python3.9/site-packages (from shap) (1.8.0)\n",
      "Requirement already satisfied: cloudpickle in /opt/conda/lib/python3.9/site-packages (from shap) (2.0.0)\n",
      "Requirement already satisfied: slicer==0.0.7 in /opt/conda/lib/python3.9/site-packages (from shap) (0.0.7)\n",
      "Requirement already satisfied: numpy in /opt/conda/lib/python3.9/site-packages (from shap) (1.21.5)\n",
      "Requirement already satisfied: packaging>20.9 in /opt/conda/lib/python3.9/site-packages (from shap) (21.3)\n",
      "Requirement already satisfied: scikit-learn in /opt/conda/lib/python3.9/site-packages (from shap) (1.0.2)\n",
      "Requirement already satisfied: tqdm>4.25.0 in /opt/conda/lib/python3.9/site-packages (from shap) (4.62.3)\n",
      "Requirement already satisfied: pyparsing!=3.0.5,>=2.0.2 in /opt/conda/lib/python3.9/site-packages (from packaging>20.9->shap) (3.0.7)\n",
      "Requirement already satisfied: llvmlite<0.39,>=0.38.0rc1 in /opt/conda/lib/python3.9/site-packages (from numba->shap) (0.38.0)\n",
      "Requirement already satisfied: setuptools in /opt/conda/lib/python3.9/site-packages (from numba->shap) (60.9.3)\n",
      "Requirement already satisfied: python-dateutil>=2.8.1 in /opt/conda/lib/python3.9/site-packages (from pandas->shap) (2.8.2)\n",
      "Requirement already satisfied: pytz>=2020.1 in /opt/conda/lib/python3.9/site-packages (from pandas->shap) (2021.3)\n",
      "Requirement already satisfied: threadpoolctl>=2.0.0 in /opt/conda/lib/python3.9/site-packages (from scikit-learn->shap) (3.1.0)\n",
      "Requirement already satisfied: joblib>=0.11 in /opt/conda/lib/python3.9/site-packages (from scikit-learn->shap) (1.1.0)\n",
      "Requirement already satisfied: six>=1.5 in /opt/conda/lib/python3.9/site-packages (from python-dateutil>=2.8.1->pandas->shap) (1.16.0)\n"
     ]
    }
   ],
   "source": [
    "!pip install seaborn\n",
    "!pip install xgboost\n",
    "!pip install shap"
   ]
  },
  {
   "cell_type": "code",
   "execution_count": 2,
   "id": "2a7b728e-3cba-4b94-a717-d8fd063d58ba",
   "metadata": {},
   "outputs": [],
   "source": [
    "#Import\n",
    "\n",
    "import pandas as pd\n",
    "import sklearn\n",
    "import seaborn as sns\n",
    "import matplotlib.pyplot as plt\n",
    "from sklearn.impute import SimpleImputer\n",
    "from sklearn.feature_selection import SelectKBest\n",
    "from sklearn.feature_selection import f_classif\n",
    "\n",
    "from sklearn import preprocessing\n",
    "\n",
    "from sklearn.model_selection import cross_validate\n",
    "from sklearn.metrics import r2_score\n",
    "from sklearn.ensemble import RandomForestRegressor\n",
    "from sklearn.svm import SVR\n",
    "from sklearn.model_selection import GridSearchCV\n",
    "from xgboost.sklearn import XGBRegressor\n",
    "from sklearn.linear_model import LinearRegression\n",
    "from sklearn.ensemble import HistGradientBoostingRegressor\n",
    "from sklearn.linear_model import Ridge\n",
    "from sklearn.gaussian_process import GaussianProcessRegressor\n",
    "import numpy as np\n",
    "import shap\n",
    "import seaborn \n"
   ]
  },
  {
   "cell_type": "markdown",
   "id": "98bdc15e-0da1-4327-a3ea-d3be252159e1",
   "metadata": {},
   "source": [
    "Import and inspect the data"
   ]
  },
  {
   "cell_type": "code",
   "execution_count": 3,
   "id": "e1da1214-e591-4580-b896-f35fe0fa233e",
   "metadata": {},
   "outputs": [],
   "source": [
    "train_dataset = pd.read_csv(r\"data/train.csv\", )\n",
    "test_dataset = pd.read_csv(r\"data/test.csv\",index_col=\"trustii_id\")"
   ]
  },
  {
   "cell_type": "code",
   "execution_count": 4,
   "id": "0d5f6924-5268-4d64-9b47-1ccf7ad50409",
   "metadata": {},
   "outputs": [
    {
     "data": {
      "text/html": [
       "<div>\n",
       "<style scoped>\n",
       "    .dataframe tbody tr th:only-of-type {\n",
       "        vertical-align: middle;\n",
       "    }\n",
       "\n",
       "    .dataframe tbody tr th {\n",
       "        vertical-align: top;\n",
       "    }\n",
       "\n",
       "    .dataframe thead th {\n",
       "        text-align: right;\n",
       "    }\n",
       "</style>\n",
       "<table border=\"1\" class=\"dataframe\">\n",
       "  <thead>\n",
       "    <tr style=\"text-align: right;\">\n",
       "      <th></th>\n",
       "      <th>age</th>\n",
       "      <th>sex</th>\n",
       "      <th>bmi</th>\n",
       "      <th>children</th>\n",
       "      <th>smoker</th>\n",
       "      <th>region</th>\n",
       "      <th>charges</th>\n",
       "    </tr>\n",
       "  </thead>\n",
       "  <tbody>\n",
       "    <tr>\n",
       "      <th>0</th>\n",
       "      <td>60</td>\n",
       "      <td>female</td>\n",
       "      <td>27.550</td>\n",
       "      <td>0</td>\n",
       "      <td>no</td>\n",
       "      <td>northeast</td>\n",
       "      <td>13217.09450</td>\n",
       "    </tr>\n",
       "    <tr>\n",
       "      <th>1</th>\n",
       "      <td>46</td>\n",
       "      <td>female</td>\n",
       "      <td>28.050</td>\n",
       "      <td>1</td>\n",
       "      <td>no</td>\n",
       "      <td>southeast</td>\n",
       "      <td>8233.09750</td>\n",
       "    </tr>\n",
       "    <tr>\n",
       "      <th>2</th>\n",
       "      <td>50</td>\n",
       "      <td>female</td>\n",
       "      <td>23.540</td>\n",
       "      <td>2</td>\n",
       "      <td>no</td>\n",
       "      <td>southeast</td>\n",
       "      <td>10107.22060</td>\n",
       "    </tr>\n",
       "    <tr>\n",
       "      <th>3</th>\n",
       "      <td>52</td>\n",
       "      <td>male</td>\n",
       "      <td>27.360</td>\n",
       "      <td>0</td>\n",
       "      <td>yes</td>\n",
       "      <td>northwest</td>\n",
       "      <td>24393.62240</td>\n",
       "    </tr>\n",
       "    <tr>\n",
       "      <th>4</th>\n",
       "      <td>54</td>\n",
       "      <td>male</td>\n",
       "      <td>32.775</td>\n",
       "      <td>0</td>\n",
       "      <td>no</td>\n",
       "      <td>northeast</td>\n",
       "      <td>10435.06525</td>\n",
       "    </tr>\n",
       "  </tbody>\n",
       "</table>\n",
       "</div>"
      ],
      "text/plain": [
       "   age     sex     bmi  children smoker     region      charges\n",
       "0   60  female  27.550         0     no  northeast  13217.09450\n",
       "1   46  female  28.050         1     no  southeast   8233.09750\n",
       "2   50  female  23.540         2     no  southeast  10107.22060\n",
       "3   52    male  27.360         0    yes  northwest  24393.62240\n",
       "4   54    male  32.775         0     no  northeast  10435.06525"
      ]
     },
     "execution_count": 4,
     "metadata": {},
     "output_type": "execute_result"
    }
   ],
   "source": [
    "train_dataset.head()"
   ]
  },
  {
   "cell_type": "markdown",
   "id": "a11a4bfd-54a6-4f5b-af21-f8854c5975ac",
   "metadata": {},
   "source": [
    "Assert that there is no empty or nan values"
   ]
  },
  {
   "cell_type": "code",
   "execution_count": 5,
   "id": "e8c211e2-66d9-482a-af5f-7d1ebfecbf90",
   "metadata": {},
   "outputs": [
    {
     "name": "stdout",
     "output_type": "stream",
     "text": [
      "There are 0.0 % of empty values in the dataframe\n",
      "There are 0.0 % of rows with empty values\n"
     ]
    }
   ],
   "source": [
    "percentage_of_empty_values= (train_dataset.isnull().sum().sum())/train_dataset.size *100\n",
    "print(f\"There are {percentage_of_empty_values} % of empty values in the dataframe\")\n",
    "percentage_of_rows_with_empty_values = (train_dataset.shape[0] - train_dataset.dropna().shape[0])/ train_dataset.shape[0] *100\n",
    "print(f\"There are {percentage_of_rows_with_empty_values} % of rows with empty values\")"
   ]
  },
  {
   "cell_type": "markdown",
   "id": "a8430015-0430-4a6b-b4cc-e9b00b889b75",
   "metadata": {},
   "source": [
    "Split the features and the target."
   ]
  },
  {
   "cell_type": "code",
   "execution_count": 6,
   "id": "ff07713b-274d-43d8-8849-10cdf3dc825b",
   "metadata": {},
   "outputs": [
    {
     "name": "stdout",
     "output_type": "stream",
     "text": [
      "<class 'pandas.core.frame.DataFrame'>\n",
      "RangeIndex: 936 entries, 0 to 935\n",
      "Data columns (total 7 columns):\n",
      " #   Column    Non-Null Count  Dtype  \n",
      "---  ------    --------------  -----  \n",
      " 0   age       936 non-null    int64  \n",
      " 1   sex       936 non-null    object \n",
      " 2   bmi       936 non-null    float64\n",
      " 3   children  936 non-null    int64  \n",
      " 4   smoker    936 non-null    object \n",
      " 5   region    936 non-null    object \n",
      " 6   charges   936 non-null    float64\n",
      "dtypes: float64(2), int64(2), object(3)\n",
      "memory usage: 51.3+ KB\n"
     ]
    }
   ],
   "source": [
    "train_dataset.info()"
   ]
  },
  {
   "cell_type": "code",
   "execution_count": null,
   "id": "e33dc7dd-b35d-4f99-b302-ae1b4c1b752b",
   "metadata": {},
   "outputs": [],
   "source": []
  },
  {
   "cell_type": "markdown",
   "id": "58392537-d612-4eb5-9e2a-8330a4c87fb4",
   "metadata": {},
   "source": [
    "# Vizualisation of the target"
   ]
  },
  {
   "cell_type": "code",
   "execution_count": 7,
   "id": "90ac5cb6-fc0c-428d-88a4-b6b7fceb8a5e",
   "metadata": {},
   "outputs": [
    {
     "data": {
      "text/plain": [
       "<AxesSubplot:xlabel='charges'>"
      ]
     },
     "execution_count": 7,
     "metadata": {},
     "output_type": "execute_result"
    },
    {
     "data": {
      "image/png": "[encoded data removed]",
      "text/plain": [
       "<Figure size 432x288 with 1 Axes>"
      ]
     },
     "metadata": {
      "needs_background": "light"
     },
     "output_type": "display_data"
    }
   ],
   "source": [
    "target = train_dataset[\"charges\"]\n",
    "sns.boxplot(x=target)"
   ]
  },
  {
   "cell_type": "code",
   "execution_count": 8,
   "id": "9f93ac08-546a-4176-ad08-1cd466879522",
   "metadata": {},
   "outputs": [
    {
     "data": {
      "text/plain": [
       "<AxesSubplot:xlabel='charges', ylabel='Count'>"
      ]
     },
     "execution_count": 8,
     "metadata": {},
     "output_type": "execute_result"
    },
    {
     "data": {
      "image/png": "[encoded data removed]",
      "text/plain": [
       "<Figure size 432x288 with 1 Axes>"
      ]
     },
     "metadata": {
      "needs_background": "light"
     },
     "output_type": "display_data"
    }
   ],
   "source": [
    "sns.histplot(x=target)"
   ]
  },
  {
   "cell_type": "markdown",
   "id": "cc34f7a7-6f62-477f-9b1e-7f875fc49f13",
   "metadata": {},
   "source": [
    "# Features Engineering"
   ]
  },
  {
   "cell_type": "markdown",
   "id": "f21ce707-bf53-4f7f-8a2e-d0f98576b1d3",
   "metadata": {},
   "source": [
    "## Deal with categorical features."
   ]
  },
  {
   "cell_type": "code",
   "execution_count": 9,
   "id": "298d9a5d-5eda-4149-b851-16d4a8d339a3",
   "metadata": {},
   "outputs": [],
   "source": [
    "train_dataset = pd.get_dummies(train_dataset)\n",
    "test_dataset = pd.get_dummies(test_dataset)"
   ]
  },
  {
   "cell_type": "code",
   "execution_count": 10,
   "id": "007c6b53-d4f7-41d0-8d4f-10ac66bbc672",
   "metadata": {},
   "outputs": [],
   "source": [
    "features = train_dataset.columns.drop(\"charges\")\n",
    "train_dataset = train_dataset[features]"
   ]
  },
  {
   "cell_type": "code",
   "execution_count": 11,
   "id": "065eb31d-9290-41bd-b974-b55ee73f3ac6",
   "metadata": {},
   "outputs": [
    {
     "data": {
      "text/plain": [
       "Index(['age', 'bmi', 'children', 'sex_female', 'sex_male', 'smoker_no',\n",
       "       'smoker_yes', 'region_northeast', 'region_northwest',\n",
       "       'region_southeast', 'region_southwest'],\n",
       "      dtype='object')"
      ]
     },
     "execution_count": 11,
     "metadata": {},
     "output_type": "execute_result"
    }
   ],
   "source": [
    "train_dataset.columns"
   ]
  },
  {
   "cell_type": "markdown",
   "id": "5bd5ca9f-8670-4ddf-ab38-5b5ff03523e7",
   "metadata": {},
   "source": [
    "Delete the binary features."
   ]
  },
  {
   "cell_type": "code",
   "execution_count": 12,
   "id": "cb0d3c2d-f50e-4e01-8af5-d8fb7fa1993f",
   "metadata": {},
   "outputs": [],
   "source": [
    "features = train_dataset.columns\n",
    "columns_to_drop = ('sex_male','smoker_no') "
   ]
  },
  {
   "cell_type": "code",
   "execution_count": 13,
   "id": "e93b9f7a-71dd-40f5-b855-4ee1bae8270d",
   "metadata": {},
   "outputs": [],
   "source": [
    "for feat in columns_to_drop:\n",
    "    features= features.drop(feat)"
   ]
  },
  {
   "cell_type": "code",
   "execution_count": 14,
   "id": "2bc7241e-50a8-4410-8996-d29f16d05eb9",
   "metadata": {},
   "outputs": [
    {
     "data": {
      "text/plain": [
       "Index(['age', 'bmi', 'children', 'sex_female', 'smoker_yes',\n",
       "       'region_northeast', 'region_northwest', 'region_southeast',\n",
       "       'region_southwest'],\n",
       "      dtype='object')"
      ]
     },
     "execution_count": 14,
     "metadata": {},
     "output_type": "execute_result"
    }
   ],
   "source": [
    "features"
   ]
  },
  {
   "cell_type": "code",
   "execution_count": 15,
   "id": "f6ba572f-cea7-4369-81ec-e2ec70198cf4",
   "metadata": {},
   "outputs": [],
   "source": [
    "train_dataset = train_dataset[features]*1.0\n",
    "test_dataset= test_dataset[features]*1.0"
   ]
  },
  {
   "cell_type": "code",
   "execution_count": 16,
   "id": "33096f10-8907-494a-962c-9adbc8a2ec7b",
   "metadata": {},
   "outputs": [
    {
     "name": "stdout",
     "output_type": "stream",
     "text": [
      "<class 'pandas.core.frame.DataFrame'>\n",
      "RangeIndex: 936 entries, 0 to 935\n",
      "Data columns (total 9 columns):\n",
      " #   Column            Non-Null Count  Dtype  \n",
      "---  ------            --------------  -----  \n",
      " 0   age               936 non-null    float64\n",
      " 1   bmi               936 non-null    float64\n",
      " 2   children          936 non-null    float64\n",
      " 3   sex_female        936 non-null    float64\n",
      " 4   smoker_yes        936 non-null    float64\n",
      " 5   region_northeast  936 non-null    float64\n",
      " 6   region_northwest  936 non-null    float64\n",
      " 7   region_southeast  936 non-null    float64\n",
      " 8   region_southwest  936 non-null    float64\n",
      "dtypes: float64(9)\n",
      "memory usage: 65.9 KB\n"
     ]
    }
   ],
   "source": [
    "train_dataset.info()"
   ]
  },
  {
   "cell_type": "code",
   "execution_count": 17,
   "id": "2ba6ddee-92ae-429d-892b-583dc2d9fe92",
   "metadata": {},
   "outputs": [
    {
     "data": {
      "text/plain": [
       "0      13217.09\n",
       "1       8233.10\n",
       "2      10107.22\n",
       "3      24393.62\n",
       "4      10435.07\n",
       "         ...   \n",
       "931    48675.52\n",
       "932    10982.50\n",
       "933     6753.04\n",
       "934     5415.66\n",
       "935     2585.27\n",
       "Name: charges, Length: 936, dtype: float64"
      ]
     },
     "execution_count": 17,
     "metadata": {},
     "output_type": "execute_result"
    }
   ],
   "source": [
    "target= np.round(target, 2)\n",
    "target"
   ]
  },
  {
   "cell_type": "markdown",
   "id": "52b6ec68-dda7-4dc3-9d3f-8bee5f23f9f5",
   "metadata": {},
   "source": [
    "# Best Model Selection"
   ]
  },
  {
   "cell_type": "code",
   "execution_count": 18,
   "id": "2020366c-9ecc-4929-baa5-ab4e02df4a77",
   "metadata": {},
   "outputs": [],
   "source": [
    "metric = \"r2\""
   ]
  },
  {
   "cell_type": "markdown",
   "id": "c834e96a-55b8-4a2e-8650-99f615ef5be8",
   "metadata": {},
   "source": [
    "features_best = [\"smoker_yes\",\"age\",\"bmi\",\"children\"]\n",
    "train_dataset = train_dataset[features_best]\n",
    "test_dataset= test_dataset[features_best]"
   ]
  },
  {
   "cell_type": "code",
   "execution_count": 19,
   "id": "df2e5a80-739e-4bf8-a627-620769b6ad0e",
   "metadata": {},
   "outputs": [
    {
     "data": {
      "text/plain": [
       "936"
      ]
     },
     "execution_count": 19,
     "metadata": {},
     "output_type": "execute_result"
    }
   ],
   "source": [
    "train_dataset.smoker_yes.count()"
   ]
  },
  {
   "cell_type": "code",
   "execution_count": 20,
   "id": "8d1b467c-78ed-47a9-8389-b76cffb18a61",
   "metadata": {},
   "outputs": [
    {
     "data": {
      "text/plain": [
       "fit_time      0.001815\n",
       "score_time    0.001235\n",
       "test_score    0.748197\n",
       "dtype: float64"
      ]
     },
     "execution_count": 20,
     "metadata": {},
     "output_type": "execute_result"
    }
   ],
   "source": [
    "model = LinearRegression()\n",
    "\n",
    "scores = cross_validate(model, train_dataset,target,cv=5,scoring=metric)\n",
    "scores = pd.DataFrame(scores).mean()\n",
    "scores"
   ]
  },
  {
   "cell_type": "code",
   "execution_count": 21,
   "id": "2401aabc-5a88-43fe-8977-4dca3d5b20db",
   "metadata": {},
   "outputs": [
    {
     "name": "stdout",
     "output_type": "stream",
     "text": [
      "0.8639592919383625 {'max_depth': 4, 'n_estimators': 200}\n"
     ]
    }
   ],
   "source": [
    "# Try random Forest Classifier\n",
    "model = RandomForestRegressor(n_estimators=150,max_depth=5)\n",
    "params = {\"n_estimators\" :[50,100,150,200,250],\"max_depth\": [3,4,5,6]}\n",
    "#scores = cross_validate(model, train_dataset,target,cv=5,scoring=metric)\n",
    "clf = GridSearchCV(model, params,cv=5,refit=True,scoring=\"r2\")        \n",
    "clf.fit (train_dataset,target)         \n",
    "\n",
    "print(clf.best_score_, clf.best_params_)"
   ]
  },
  {
   "cell_type": "raw",
   "id": "361bd6cd-d621-430a-9738-846b3962b177",
   "metadata": {},
   "source": [
    "model = SVR()\n",
    "params = {\"kernel\":[\"linear\", ],\"C\":[100000,10000,1000],\"degree\": [1,2,3]}\n",
    "#scores = cross_validate(model, train_dataset,target,cv=5,scoring=metric)\n",
    "clf = GridSearchCV(model, params,cv=3,refit=True)        \n",
    "clf.fit (train_dataset,target)         \n",
    "\n",
    "print(clf.best_score_, clf.best_params_)"
   ]
  },
  {
   "cell_type": "code",
   "execution_count": 22,
   "id": "2eae1482-b355-45ec-b57e-1e7eda10677d",
   "metadata": {},
   "outputs": [
    {
     "name": "stdout",
     "output_type": "stream",
     "text": [
      "0.8646485861979112 {'max_depth': 3, 'max_iter': 50, 'max_leaf_nodes': 8}\n"
     ]
    }
   ],
   "source": [
    "model = HistGradientBoostingRegressor()\n",
    "params = {\"max_iter\" :[30,50,100,],\"max_depth\": [1,2,3,4,5],\"max_leaf_nodes\":[5,8,10]}\n",
    "#scores = cross_validate(model, train_dataset,target,cv=5,scoring=metric)\n",
    "clf = GridSearchCV(model, params,cv=5,refit=True,scoring=\"r2\")        \n",
    "clf.fit (train_dataset,target)         \n",
    "\n",
    "print(clf.best_score_, clf.best_params_)"
   ]
  },
  {
   "cell_type": "code",
   "execution_count": 23,
   "id": "a5df6971-db42-4966-8ff9-bdd5c9c20d5e",
   "metadata": {},
   "outputs": [
    {
     "name": "stdout",
     "output_type": "stream",
     "text": [
      "-0.5337031890994668 {}\n"
     ]
    }
   ],
   "source": [
    "model = GaussianProcessRegressor()\n",
    "params = {}\n",
    "#scores = cross_validate(model, train_dataset,target,cv=5,scoring=metric)\n",
    "clf = GridSearchCV(model, params,cv=5,refit=True) #,scoring=\"r2\")        \n",
    "clf.fit (train_dataset,target)         \n",
    "\n",
    "print(clf.best_score_, clf.best_params_)"
   ]
  },
  {
   "cell_type": "markdown",
   "id": "b7e474bc-edfa-4f3c-9db0-0f0608602dde",
   "metadata": {},
   "source": [
    "Conclusion : HistGradientBoostingRegressor seems to give the best performances."
   ]
  },
  {
   "cell_type": "markdown",
   "id": "9810c4bc-37fe-41cd-beb1-b8c939082d1b",
   "metadata": {},
   "source": [
    "# Prediction "
   ]
  },
  {
   "cell_type": "code",
   "execution_count": 24,
   "id": "dec887c6-31a2-4b92-9878-29897125ee0c",
   "metadata": {},
   "outputs": [
    {
     "data": {
      "text/plain": [
       "HistGradientBoostingRegressor(max_depth=3, max_iter=50, max_leaf_nodes=8)"
      ]
     },
     "execution_count": 24,
     "metadata": {},
     "output_type": "execute_result"
    }
   ],
   "source": [
    "model = HistGradientBoostingRegressor(max_iter=50,max_depth=3,max_leaf_nodes=8)\n",
    "model.fit(train_dataset,target)"
   ]
  },
  {
   "cell_type": "code",
   "execution_count": 25,
   "id": "4afa1072-d7de-4ffe-9439-03bb47b84bfb",
   "metadata": {},
   "outputs": [],
   "source": [
    "y_test_pred=model.predict(test_dataset)"
   ]
  },
  {
   "cell_type": "code",
   "execution_count": 26,
   "id": "9640d20d-578e-48b1-9cae-1456fc9d13b0",
   "metadata": {},
   "outputs": [
    {
     "data": {
      "text/plain": [
       "402"
      ]
     },
     "execution_count": 26,
     "metadata": {},
     "output_type": "execute_result"
    }
   ],
   "source": [
    "len(y_test_pred)"
   ]
  },
  {
   "cell_type": "markdown",
   "id": "1d47cc47-242f-4ae6-ac53-deeea43e8bf6",
   "metadata": {},
   "source": [
    "# Explainability"
   ]
  },
  {
   "cell_type": "code",
   "execution_count": 27,
   "id": "5e753429-28e4-449e-b03a-d2d5db4a7bff",
   "metadata": {},
   "outputs": [
    {
     "data": {
      "text/plain": [
       "Index(['age', 'bmi', 'children', 'sex_female', 'smoker_yes',\n",
       "       'region_northeast', 'region_northwest', 'region_southeast',\n",
       "       'region_southwest'],\n",
       "      dtype='object')"
      ]
     },
     "execution_count": 27,
     "metadata": {},
     "output_type": "execute_result"
    }
   ],
   "source": [
    "train_dataset.columns"
   ]
  },
  {
   "cell_type": "code",
   "execution_count": 28,
   "id": "ecb17a1f-8ddb-42cc-b2d1-bcb275b3ac89",
   "metadata": {},
   "outputs": [],
   "source": [
    "train = shap.sample(train_dataset,1000)"
   ]
  },
  {
   "cell_type": "code",
   "execution_count": 29,
   "id": "c23c8c51-7112-430c-9dc8-50a9f5da0150",
   "metadata": {},
   "outputs": [
    {
     "data": {
      "image/png": "[encoded data removed]",
      "text/plain": [
       "<Figure size 576x367.2 with 2 Axes>"
      ]
     },
     "metadata": {
      "needs_background": "light"
     },
     "output_type": "display_data"
    }
   ],
   "source": [
    "explainer = shap.Explainer(model)\n",
    "\n",
    "shap_values = explainer.shap_values(train)\n",
    "shap.summary_plot(shap_values, train)"
   ]
  },
  {
   "cell_type": "code",
   "execution_count": 30,
   "id": "88239d6d-7543-47f0-b628-bb1a8dd09fb6",
   "metadata": {},
   "outputs": [
    {
     "data": {
      "image/png": "[encoded data removed]",
      "text/plain": [
       "<Figure size 576x367.2 with 1 Axes>"
      ]
     },
     "metadata": {
      "needs_background": "light"
     },
     "output_type": "display_data"
    }
   ],
   "source": [
    "#Here we can see the most important features for prediction\n",
    "shap.summary_plot(shap_values, train, feature_names=train_dataset.columns, plot_type=\"bar\")"
   ]
  },
  {
   "cell_type": "markdown",
   "id": "05638805-05eb-4d2a-bf5d-a34877197a93",
   "metadata": {},
   "source": [
    "# Push to the submission table"
   ]
  },
  {
   "cell_type": "code",
   "execution_count": 31,
   "id": "375cac44-5b05-45e8-b833-fbe34018cc56",
   "metadata": {},
   "outputs": [
    {
     "data": {
      "text/html": [
       "<div>\n",
       "<style scoped>\n",
       "    .dataframe tbody tr th:only-of-type {\n",
       "        vertical-align: middle;\n",
       "    }\n",
       "\n",
       "    .dataframe tbody tr th {\n",
       "        vertical-align: top;\n",
       "    }\n",
       "\n",
       "    .dataframe thead th {\n",
       "        text-align: right;\n",
       "    }\n",
       "</style>\n",
       "<table border=\"1\" class=\"dataframe\">\n",
       "  <thead>\n",
       "    <tr style=\"text-align: right;\">\n",
       "      <th></th>\n",
       "      <th>age</th>\n",
       "      <th>sex</th>\n",
       "      <th>bmi</th>\n",
       "      <th>children</th>\n",
       "      <th>smoker</th>\n",
       "      <th>region</th>\n",
       "    </tr>\n",
       "    <tr>\n",
       "      <th>trustii_id</th>\n",
       "      <th></th>\n",
       "      <th></th>\n",
       "      <th></th>\n",
       "      <th></th>\n",
       "      <th></th>\n",
       "      <th></th>\n",
       "    </tr>\n",
       "  </thead>\n",
       "  <tbody>\n",
       "    <tr>\n",
       "      <th>1</th>\n",
       "      <td>51</td>\n",
       "      <td>female</td>\n",
       "      <td>34.960</td>\n",
       "      <td>2</td>\n",
       "      <td>yes</td>\n",
       "      <td>northeast</td>\n",
       "    </tr>\n",
       "    <tr>\n",
       "      <th>2</th>\n",
       "      <td>52</td>\n",
       "      <td>male</td>\n",
       "      <td>36.765</td>\n",
       "      <td>2</td>\n",
       "      <td>no</td>\n",
       "      <td>northwest</td>\n",
       "    </tr>\n",
       "    <tr>\n",
       "      <th>3</th>\n",
       "      <td>46</td>\n",
       "      <td>female</td>\n",
       "      <td>27.720</td>\n",
       "      <td>1</td>\n",
       "      <td>no</td>\n",
       "      <td>southeast</td>\n",
       "    </tr>\n",
       "    <tr>\n",
       "      <th>4</th>\n",
       "      <td>48</td>\n",
       "      <td>male</td>\n",
       "      <td>37.290</td>\n",
       "      <td>2</td>\n",
       "      <td>no</td>\n",
       "      <td>southeast</td>\n",
       "    </tr>\n",
       "    <tr>\n",
       "      <th>5</th>\n",
       "      <td>35</td>\n",
       "      <td>female</td>\n",
       "      <td>23.465</td>\n",
       "      <td>2</td>\n",
       "      <td>no</td>\n",
       "      <td>northeast</td>\n",
       "    </tr>\n",
       "    <tr>\n",
       "      <th>...</th>\n",
       "      <td>...</td>\n",
       "      <td>...</td>\n",
       "      <td>...</td>\n",
       "      <td>...</td>\n",
       "      <td>...</td>\n",
       "      <td>...</td>\n",
       "    </tr>\n",
       "    <tr>\n",
       "      <th>398</th>\n",
       "      <td>27</td>\n",
       "      <td>male</td>\n",
       "      <td>31.130</td>\n",
       "      <td>1</td>\n",
       "      <td>yes</td>\n",
       "      <td>southeast</td>\n",
       "    </tr>\n",
       "    <tr>\n",
       "      <th>399</th>\n",
       "      <td>52</td>\n",
       "      <td>female</td>\n",
       "      <td>30.875</td>\n",
       "      <td>0</td>\n",
       "      <td>no</td>\n",
       "      <td>northeast</td>\n",
       "    </tr>\n",
       "    <tr>\n",
       "      <th>400</th>\n",
       "      <td>52</td>\n",
       "      <td>male</td>\n",
       "      <td>32.775</td>\n",
       "      <td>3</td>\n",
       "      <td>no</td>\n",
       "      <td>northwest</td>\n",
       "    </tr>\n",
       "    <tr>\n",
       "      <th>401</th>\n",
       "      <td>34</td>\n",
       "      <td>female</td>\n",
       "      <td>31.920</td>\n",
       "      <td>1</td>\n",
       "      <td>yes</td>\n",
       "      <td>northeast</td>\n",
       "    </tr>\n",
       "    <tr>\n",
       "      <th>402</th>\n",
       "      <td>19</td>\n",
       "      <td>female</td>\n",
       "      <td>32.490</td>\n",
       "      <td>0</td>\n",
       "      <td>yes</td>\n",
       "      <td>northwest</td>\n",
       "    </tr>\n",
       "  </tbody>\n",
       "</table>\n",
       "<p>402 rows × 6 columns</p>\n",
       "</div>"
      ],
      "text/plain": [
       "            age     sex     bmi  children smoker     region\n",
       "trustii_id                                                 \n",
       "1            51  female  34.960         2    yes  northeast\n",
       "2            52    male  36.765         2     no  northwest\n",
       "3            46  female  27.720         1     no  southeast\n",
       "4            48    male  37.290         2     no  southeast\n",
       "5            35  female  23.465         2     no  northeast\n",
       "...         ...     ...     ...       ...    ...        ...\n",
       "398          27    male  31.130         1    yes  southeast\n",
       "399          52  female  30.875         0     no  northeast\n",
       "400          52    male  32.775         3     no  northwest\n",
       "401          34  female  31.920         1    yes  northeast\n",
       "402          19  female  32.490         0    yes  northwest\n",
       "\n",
       "[402 rows x 6 columns]"
      ]
     },
     "execution_count": 31,
     "metadata": {},
     "output_type": "execute_result"
    }
   ],
   "source": [
    "original_validation_data = pd.read_csv(r\"data/test.csv\",index_col=\"trustii_id\")\n",
    "original_validation_data"
   ]
  },
  {
   "cell_type": "code",
   "execution_count": 32,
   "id": "0e494f45-0f1b-452a-8eed-c35b9508ff17",
   "metadata": {},
   "outputs": [],
   "source": [
    "pred_dataframe = pd.DataFrame(y_test_pred,columns = [\"charges\"],index = [i for i in range(1,len(y_test_pred)+1)])"
   ]
  },
  {
   "cell_type": "code",
   "execution_count": 33,
   "id": "25729c5c-4ff8-4298-8f75-44b346b38a37",
   "metadata": {},
   "outputs": [],
   "source": [
    "original_validation_data[\"charges\"]=pred_dataframe[\"charges\"]"
   ]
  },
  {
   "cell_type": "code",
   "execution_count": 34,
   "id": "c6f6a073-e9bb-4275-9cf0-37df16e20356",
   "metadata": {},
   "outputs": [
    {
     "data": {
      "text/html": [
       "<div>\n",
       "<style scoped>\n",
       "    .dataframe tbody tr th:only-of-type {\n",
       "        vertical-align: middle;\n",
       "    }\n",
       "\n",
       "    .dataframe tbody tr th {\n",
       "        vertical-align: top;\n",
       "    }\n",
       "\n",
       "    .dataframe thead th {\n",
       "        text-align: right;\n",
       "    }\n",
       "</style>\n",
       "<table border=\"1\" class=\"dataframe\">\n",
       "  <thead>\n",
       "    <tr style=\"text-align: right;\">\n",
       "      <th></th>\n",
       "      <th>age</th>\n",
       "      <th>sex</th>\n",
       "      <th>bmi</th>\n",
       "      <th>children</th>\n",
       "      <th>smoker</th>\n",
       "      <th>region</th>\n",
       "      <th>charges</th>\n",
       "    </tr>\n",
       "    <tr>\n",
       "      <th>trustii_id</th>\n",
       "      <th></th>\n",
       "      <th></th>\n",
       "      <th></th>\n",
       "      <th></th>\n",
       "      <th></th>\n",
       "      <th></th>\n",
       "      <th></th>\n",
       "    </tr>\n",
       "  </thead>\n",
       "  <tbody>\n",
       "    <tr>\n",
       "      <th>1</th>\n",
       "      <td>51</td>\n",
       "      <td>female</td>\n",
       "      <td>34.960</td>\n",
       "      <td>2</td>\n",
       "      <td>yes</td>\n",
       "      <td>northeast</td>\n",
       "      <td>45414.080185</td>\n",
       "    </tr>\n",
       "    <tr>\n",
       "      <th>2</th>\n",
       "      <td>52</td>\n",
       "      <td>male</td>\n",
       "      <td>36.765</td>\n",
       "      <td>2</td>\n",
       "      <td>no</td>\n",
       "      <td>northwest</td>\n",
       "      <td>13730.744318</td>\n",
       "    </tr>\n",
       "    <tr>\n",
       "      <th>3</th>\n",
       "      <td>46</td>\n",
       "      <td>female</td>\n",
       "      <td>27.720</td>\n",
       "      <td>1</td>\n",
       "      <td>no</td>\n",
       "      <td>southeast</td>\n",
       "      <td>9001.274588</td>\n",
       "    </tr>\n",
       "    <tr>\n",
       "      <th>4</th>\n",
       "      <td>48</td>\n",
       "      <td>male</td>\n",
       "      <td>37.290</td>\n",
       "      <td>2</td>\n",
       "      <td>no</td>\n",
       "      <td>southeast</td>\n",
       "      <td>10513.898490</td>\n",
       "    </tr>\n",
       "    <tr>\n",
       "      <th>5</th>\n",
       "      <td>35</td>\n",
       "      <td>female</td>\n",
       "      <td>23.465</td>\n",
       "      <td>2</td>\n",
       "      <td>no</td>\n",
       "      <td>northeast</td>\n",
       "      <td>8271.234396</td>\n",
       "    </tr>\n",
       "    <tr>\n",
       "      <th>...</th>\n",
       "      <td>...</td>\n",
       "      <td>...</td>\n",
       "      <td>...</td>\n",
       "      <td>...</td>\n",
       "      <td>...</td>\n",
       "      <td>...</td>\n",
       "      <td>...</td>\n",
       "    </tr>\n",
       "    <tr>\n",
       "      <th>398</th>\n",
       "      <td>27</td>\n",
       "      <td>male</td>\n",
       "      <td>31.130</td>\n",
       "      <td>1</td>\n",
       "      <td>yes</td>\n",
       "      <td>southeast</td>\n",
       "      <td>36036.183914</td>\n",
       "    </tr>\n",
       "    <tr>\n",
       "      <th>399</th>\n",
       "      <td>52</td>\n",
       "      <td>female</td>\n",
       "      <td>30.875</td>\n",
       "      <td>0</td>\n",
       "      <td>no</td>\n",
       "      <td>northeast</td>\n",
       "      <td>11829.771190</td>\n",
       "    </tr>\n",
       "    <tr>\n",
       "      <th>400</th>\n",
       "      <td>52</td>\n",
       "      <td>male</td>\n",
       "      <td>32.775</td>\n",
       "      <td>3</td>\n",
       "      <td>no</td>\n",
       "      <td>northwest</td>\n",
       "      <td>13446.760380</td>\n",
       "    </tr>\n",
       "    <tr>\n",
       "      <th>401</th>\n",
       "      <td>34</td>\n",
       "      <td>female</td>\n",
       "      <td>31.920</td>\n",
       "      <td>1</td>\n",
       "      <td>yes</td>\n",
       "      <td>northeast</td>\n",
       "      <td>39309.969642</td>\n",
       "    </tr>\n",
       "    <tr>\n",
       "      <th>402</th>\n",
       "      <td>19</td>\n",
       "      <td>female</td>\n",
       "      <td>32.490</td>\n",
       "      <td>0</td>\n",
       "      <td>yes</td>\n",
       "      <td>northwest</td>\n",
       "      <td>34670.031392</td>\n",
       "    </tr>\n",
       "  </tbody>\n",
       "</table>\n",
       "<p>402 rows × 7 columns</p>\n",
       "</div>"
      ],
      "text/plain": [
       "            age     sex     bmi  children smoker     region       charges\n",
       "trustii_id                                                               \n",
       "1            51  female  34.960         2    yes  northeast  45414.080185\n",
       "2            52    male  36.765         2     no  northwest  13730.744318\n",
       "3            46  female  27.720         1     no  southeast   9001.274588\n",
       "4            48    male  37.290         2     no  southeast  10513.898490\n",
       "5            35  female  23.465         2     no  northeast   8271.234396\n",
       "...         ...     ...     ...       ...    ...        ...           ...\n",
       "398          27    male  31.130         1    yes  southeast  36036.183914\n",
       "399          52  female  30.875         0     no  northeast  11829.771190\n",
       "400          52    male  32.775         3     no  northwest  13446.760380\n",
       "401          34  female  31.920         1    yes  northeast  39309.969642\n",
       "402          19  female  32.490         0    yes  northwest  34670.031392\n",
       "\n",
       "[402 rows x 7 columns]"
      ]
     },
     "execution_count": 34,
     "metadata": {},
     "output_type": "execute_result"
    }
   ],
   "source": [
    "original_validation_data"
   ]
  },
  {
   "cell_type": "code",
   "execution_count": 35,
   "id": "e2d2942f-70b3-4547-b60d-c762a90ba20b",
   "metadata": {},
   "outputs": [],
   "source": [
    "original_validation_data.to_csv('my_submission.csv')"
   ]
  },
  {
   "cell_type": "code",
   "execution_count": null,
   "id": "bf1c7b79-c3a5-4682-b6fd-b81660cacfa5",
   "metadata": {},
   "outputs": [],
   "source": []
  }
 ],
 "metadata": {
  "kernelspec": {
   "display_name": "Python 3 (ipykernel)",
   "language": "python",
   "name": "python3"
  },
  "language_info": {
   "codemirror_mode": {
    "name": "ipython",
    "version": 3
   },
   "file_extension": ".py",
   "mimetype": "text/x-python",
   "name": "python",
   "nbconvert_exporter": "python",
   "pygments_lexer": "ipython3",
   "version": "3.9.10"
  }
 },
 "nbformat": 4,
 "nbformat_minor": 5
}
